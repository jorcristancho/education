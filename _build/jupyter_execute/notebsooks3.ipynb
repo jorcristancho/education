{
 "cells": [
  {
   "cell_type": "markdown",
   "metadata": {
    "id": "ry9FbO9K5mPH"
   },
   "source": [
    "(introduction_to_transistors)=\n",
    "# **Introduction to transistors**\n",
    "\n",
    "\n",
    "The pn junction is an essential component of nearly every semiconductor device. This chapter focuses in the description of basic principles of the pn junction functioning, to do that we will review the p-type and n-type semiconductors, its characteristics and properties, which will allow to understand its individual functioning and extend its properties to the functioning in combination.\n",
    "\n",
    "\n",
    "**Learning Objectives**\n",
    "\n",
    "**Develop** an ability to analyze electronic circuits with diodes and transistors\n",
    "\n",
    "\n",
    "**Objectives Week 13**\n",
    "\n",
    "*   Describe the pn junction and its main properties\n",
    "*   Describe the pn junction operation based on the appropriate band diagrams\n",
    "*   Sketch the $I$-$V$ characteristic of a $pn$ junction\n",
    "\n",
    "**Resources available**\n",
    "\n",
    "\n",
    "+ Book Chapter 11.1\n",
    "+ Lecture 83 video\n",
    "\n",
    "\n",
    "\n",
    "Review the following video and continue with the module:\n",
    "\n",
    "\n",
    "\n",
    "<font color=\"#9900FF\"> There are two ways to include videos</font>:\n",
    "\n",
    "\n",
    "```html\n",
    "<!--It is possible to include videos directly from html or using html inside the code box-->\n",
    "<iframe width=\"640\" height=\"400\" src=\"https://www.youtube.com/embed/ky5gbzsdsBw\">\n",
    "</iframe>\n",
    "```\n"
   ]
  }
 ],
 "metadata": {
  "colab": {
   "provenance": []
  },
  "kernelspec": {
   "display_name": "Python 3",
   "name": "python3"
  },
  "language_info": {
   "codemirror_mode": {
    "name": "ipython",
    "version": 3
   },
   "file_extension": ".py",
   "mimetype": "text/x-python",
   "name": "python",
   "nbconvert_exporter": "python",
   "pygments_lexer": "ipython3",
   "version": "3.12.2"
  }
 },
 "nbformat": 4,
 "nbformat_minor": 0
}