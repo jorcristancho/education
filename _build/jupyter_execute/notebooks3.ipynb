{
 "cells": [
  {
   "cell_type": "markdown",
   "metadata": {
    "id": "ry9FbO9K5mPH"
   },
   "source": [
    "# **Introduction to PN junctions**\n",
    "\n",
    "\n",
    "The pn junction is an essential component of nearly every semiconductor device. This chapter focuses in the description of basic principles of the pn junction functioning, to do that we will review the p-type and n-type semiconductors, its characteristics and properties, which will allow to understand its individual functioning and extend its properties to the functioning in combination.\n",
    "\n",
    "\n",
    "## **Learning Objectives**\n",
    "\n",
    "**Develop** an ability to analyze electronic circuits with diodes and transistors\n",
    "\n",
    "\n",
    "## **Objectives Week 13**\n",
    "\n",
    "*   Describe the pn junction and its main properties\n",
    "*   Describe the pn junction operation based on the appropriate band diagrams\n",
    "*   Sketch the $I$-$V$ characteristic of a $pn$ junction\n",
    "\n",
    "## **Resources available**\n",
    "\n",
    "\n",
    "*   Book Chapter 11.1\n",
    "*   Lecture 83 video\n",
    "\n",
    "\n",
    "\n",
    "Review the following video and continue with the module:\n",
    "\n",
    "\n",
    "\n",
    "\n",
    "```html\n",
    "<!--It is possible to include videos directly from html or using html inside the code box-->\n",
    "<iframe width=\"640\" height=\"400\" src=\"https://www.youtube.com/embed/ky5gbzsdsBw\">\n",
    "</iframe>\n",
    "```\n"
   ]
  },
  {
   "cell_type": "code",
   "execution_count": 1,
   "metadata": {
    "colab": {
     "base_uri": "https://localhost:8080/",
     "height": 425
    },
    "id": "1ZB8BwVR1e8M",
    "outputId": "b4aa5f35-b7ba-4b55-fcdc-c42c6f872901"
   },
   "outputs": [
    {
     "ename": "SyntaxError",
     "evalue": "invalid syntax (2561892398.py, line 4)",
     "output_type": "error",
     "traceback": [
      "\u001b[1;36m  Cell \u001b[1;32mIn[1], line 4\u001b[1;36m\u001b[0m\n\u001b[1;33m    <iframe width=\"640\" height=\"400\" src=\"https://www.youtube.com/embed/ky5gbzsdsBw\">\u001b[0m\n\u001b[1;37m    ^\u001b[0m\n\u001b[1;31mSyntaxError\u001b[0m\u001b[1;31m:\u001b[0m invalid syntax\n"
     ]
    }
   ],
   "source": [
    "# @title Video Lecture 83: Introduction to PN junction\n",
    "\n",
    "%%html\n",
    "<iframe width=\"640\" height=\"400\" src=\"https://www.youtube.com/embed/ky5gbzsdsBw\">\n",
    "</iframe>\n"
   ]
  },
  {
   "cell_type": "code",
   "execution_count": null,
   "metadata": {
    "cellView": "form",
    "colab": {
     "base_uri": "https://localhost:8080/",
     "height": 421
    },
    "id": "CogLbUkWgPnB",
    "outputId": "d6705413-3ef3-4342-a717-52a898d2e6e2"
   },
   "outputs": [
    {
     "data": {
      "image/jpeg": "[encoded data removed]",
      "text/html": [
       "\n",
       "        <iframe\n",
       "            width=\"600\"\n",
       "            height=\"400\"\n",
       "            src=\"https://www.youtube.com/embed/ky5gbzsdsBw\"\n",
       "            frameborder=\"0\"\n",
       "            allowfullscreen\n",
       "            \n",
       "        ></iframe>\n",
       "        "
      ],
      "text/plain": [
       "<IPython.lib.display.YouTubeVideo at 0x7826b1919bd0>"
      ]
     },
     "execution_count": 4,
     "metadata": {},
     "output_type": "execute_result"
    }
   ],
   "source": [
    "# @title Lecture video 83 PN junction\n",
    "\n",
    "from IPython.display import YouTubeVideo\n",
    "YouTubeVideo('ky5gbzsdsBw', width=600, height=400)"
   ]
  },
  {
   "cell_type": "markdown",
   "metadata": {
    "id": "egsoRTrF80AS"
   },
   "source": [
    "# Questions from the video\n",
    "\n",
    "\n",
    "1. Interpret the differences between the p-type and n-type semiconductors.\n",
    "2. Describe the behavior of current according to the electron and hole changes in both the p-type and n-type semiconductors. Remember, electrons are the ones that move and they actually don't move that far.\n",
    "3. Explain the electric field graph and the voltage in the pn juncion.\n",
    "\n",
    "\n",
    "<label for=\"freeform\">Explain the phenomena present in the previous image. What are the characteristics and elements in the figure?:</label>\n",
    "<br>\n",
    "\n",
    "<textarea id=\"freeform\" name=\"freeform\" rows=\"4\" cols=\"50\">\n",
    "Enter text here...\n",
    "</textarea>\n"
   ]
  },
  {
   "cell_type": "markdown",
   "metadata": {
    "id": "MjOx4w6otxOj"
   },
   "source": [
    "Energy band simulation\n",
    "Insert image from nanoHUB open source simulator using the following paramaters\n",
    "* Temperature 300 K\n",
    "* Acceptor concentration e^15\n",
    "* Donnor concentration e^15\n",
    "* Input voltage 0.7V\n",
    "\n",
    "\n",
    "\n",
    "![image](https://lh3.googleusercontent.com/drive-viewer/AKGpiha_ilCpwTXuX-WOhOwNp02jeRnJ5gJCejUETyqJyn8_1MB4IzFa4yRbkpI7kQ9tS9tUZXs6OmsZrH0A24ujQfuUgg8SDQ=w1910-h927)\n",
    "\n"
   ]
  },
  {
   "cell_type": "markdown",
   "metadata": {
    "id": "bUIqzj5NfgK-"
   },
   "source": [
    "# **P and N semiconductors**\n",
    "\n",
    "To begin understanding a $pn$ junction functioning and properties, we need to review the concepts of: **doping** and **diffusion** which will help us to understand the  **n-type** semiconductor and the **p-type** semiconductor.\n",
    "\n",
    "The **pn junction** works under the collaboration of the **n-type** and **p-type** **semiconductors**.\n",
    "\n",
    "\n",
    "## **Doping**\n",
    "\n",
    "We are referring to the term \"doping\" as the process which we introduce voluntarly in a ceramic material an amount of atoms of other elements different from the ceramic, called imperfections. To produce a doping process, it is neccesary a set of requiments as for example similarity in atomic, electronic and energy characteristics discussed in the lecture video.\n",
    "\n",
    "In the case of doping of a semiconductor, for example, we could imagine a pure Silicon material, if we add voluntarly atoms of Phosphorus in the Silicon array, we will produce a **n-type** doping, where the material will gain extra electrons in the positions the Phosphorus atoms find.\n",
    "\n",
    "One way to insert images:\n",
    "\n",
    "\n",
    "![image](https://lh3.googleusercontent.com/drive-viewer/AKGpihYeAGRDajL0UOZVBUuIxiqJ5DUtAJD79YRJN4VUkZgIj1xcKy35Nv6UoszqMVolW7TBiyIZedeqlLrJTFwbxcyvreN--A=w1910-h927)\n",
    "\n",
    "Other way to insert images:\n",
    "\n",
    "<img src=\"https://lh3.googleusercontent.com/drive-viewer/AKGpihYeAGRDajL0UOZVBUuIxiqJ5DUtAJD79YRJN4VUkZgIj1xcKy35Nv6UoszqMVolW7TBiyIZedeqlLrJTFwbxcyvreN--A=w1910-h927\" alt='texto to be read'>\n",
    "\n",
    "There is a variety of ceramic materials and dopants that exist nowadays...\n",
    "\n",
    "\n",
    "## **Difussion**\n",
    "\n",
    "Difussion is modeled by Fick's first law of difussion, in which $\\mathcal{F}$ represents the flux of the quantity, $D$ represents the diffusion coefficient that depends on the element and $\\eta$ represents the concentration of the quantity. The derivative represents a gradient, a difference for making the process to happen, without a gradient, or in other words, if the gradient is zero, the total flux will be zero.\n",
    "\n",
    "$$\\mathcal{F}=-D\\frac{\\mathrm{d}\\eta}{\\mathrm{d}x} \\tag{1}$$\n",
    "\n",
    "In the case of electrons, we can model the flux of electrons by employing the same definition, however, it is important to address that it is a representation of the total movement of the electrons, and it is oversimplifying the short range of movement of electrons and its jumping between different levels.\n",
    "\n",
    "For the flux of electrons we can rewrite the equation as follows:\n",
    "\n",
    "$$\\mathcal{F}_N=-D_N\\frac{\\mathrm{d}n}{\\mathrm{d}x}  \\tag{2}$$  \n",
    "\n",
    "Whereas for the case of holes, we can rewrite the equation as follows:\n",
    "\n",
    "$$\\mathcal{F}_P=-D_P\\frac{\\mathrm{d}p}{\\mathrm{d}x}  \\tag{3}$$\n",
    "\n",
    "\n",
    "Then, if the flux of electrons is multiplied by the charge $-\\mathrm{q}$, because the electrons posses negative charge, we have the **current density** *due to* **difussion** $J_{P\\vert \\mathrm{diff}}$:\n",
    "\n",
    "$$J_{N\\vert \\mathrm{diff}}=-\\mathrm{q}\\mathcal{F}_N \\tag{4}$$\n",
    "\n",
    "And for the holes, which possesses positive charge $\\mathrm{q}$ we have:\n",
    "\n",
    "$$J_{P\\vert \\mathrm{diff}}=\\mathrm{q}\\mathcal{F}_P   \\tag{5}$$\n",
    "\n",
    "By including equation $(2)$ into $(4)$:\n",
    "\n",
    "$$J_{N\\vert \\mathrm{diff}}=\\mathrm{q}D_N\\frac{\\mathrm{d}n}{\\mathrm{d}x}  \\tag{6}$$\n",
    "\n",
    "By including equation $(3)$ into $(5)$:\n",
    "\n",
    "$$J_{P\\vert \\mathrm{diff}}=-\\mathrm{q}D_P\\frac{\\mathrm{d}p}{\\mathrm{d}x}  \\tag{6}$$\n",
    "\n",
    "\n",
    "\n",
    "## **The N-type and P-type semiconductors**\n",
    "\n",
    "## N-type semiconductors\n",
    "\n",
    "The n-type semiconductor is the material obtained by employing a n-type doping as we recall from before. We could say that after the process, the material is now filled with atoms that possesses extra electrons. That generates\n",
    "\n",
    "![image](https://lh3.googleusercontent.com/drive-viewer/AKGpihbGNs98HhmH5eYMqTRa7fr3qbg-ZxFG1qoteWTq_wi867M1XXUQJOjvaEPKWFV9GgzYbRLlgPKWyQWdhxG5UeMg8dYIBA=w1910-h927)\n",
    "\n",
    "$$ J_N = J_{N \\vert diff} + J_{N \\vert drift}$$\n",
    "\n",
    "$$ J_N = q \\mu_{n}n \\mathcal{E}_x + q D_N\\frac{dn}{dx} $$\n",
    "\n",
    "## P-type semiconductors\n",
    "\n",
    "The p-type semiconductor\n",
    "\n",
    "\n",
    "![image](https://lh3.googleusercontent.com/drive-viewer/AKGpihY6ZOsMCaDBDIGGuvZTB7t4pPC3kCkVZ6fPZxsYTUW11djEQglr24-hVZNzkubhXsb94OtPhrExD4NHVmayo9YSEm7EMw=w1910-h927)\n",
    "\n",
    "\n",
    "Then the total current density for both electrons and holes\n",
    "\n",
    "$$ J_P = J_{P \\vert diff} + J_{P \\vert drift}$$\n",
    "\n",
    "$$ J_P = q \\mu_{p}p \\mathcal{E}_x - q D_P\\frac{dp}{dx} $$\n",
    "\n",
    "\n",
    "\n",
    "# The PN junction\n",
    "\n",
    "In this example, the $p$-type semiconductor and the $n$-type semiconductor are connected physically. As we can observe, when the semiconductors are put together, they create a region in which the holes and the electrons encounter creating a **depletion** of **charge** in that part, which is called the **Depletion Region**.\n",
    "\n",
    "![image](https://lh3.googleusercontent.com/drive-viewer/AEYmBYQhtdSnfX0tCcJ59C9gzRAwXKE-99dt8nMcEsxArhwApFUKFhAmvmKvvPdTIQ6HHlF9KWOHPyETpKdXXyn_IUABz6C8YQ=w1910-h927)\n",
    "\n",
    "\n",
    "\n",
    "\n",
    "<label for=\"freeform\">Explain the phenomena present in the previous image. What are the characteristics and elements in the figure?:</label>\n",
    "<br>\n",
    "\n",
    "<textarea id=\"freeform\" name=\"freeform\" rows=\"4\" cols=\"50\">\n",
    "Enter text here...\n",
    "</textarea>"
   ]
  },
  {
   "cell_type": "markdown",
   "metadata": {
    "id": "VzgfI3357IVa"
   },
   "source": [
    "# Electrostatics\n",
    "\n",
    "\n"
   ]
  },
  {
   "cell_type": "markdown",
   "metadata": {
    "id": "bxkf_YR-uEr8"
   },
   "source": [
    "## Curves electrostatics\n",
    "\n",
    "\n",
    "## Depletion Width\n",
    "\n",
    "\n",
    "## Band Bending\n",
    "\n",
    "\n",
    "## $I$-$V$ Characteristics\n",
    "\n",
    "\n",
    "\n",
    "\n",
    "![image](https://lh3.googleusercontent.com/drive-viewer/AEYmBYSTUGYvzWeHusv8um0wAvB_LiN49mSjIhdYDKcJ-LfuytdFTiuOZQzumGc5aKwB8GkWkEC2UGKmoGhbnuDZwCNIskVlAw=w1910-h927)\n",
    "\n"
   ]
  },
  {
   "cell_type": "markdown",
   "metadata": {
    "id": "Q2J2AR_e0_5e"
   },
   "source": [
    "# **Misconceptions**\n",
    "\n",
    "\n",
    "\n",
    "**Interactive figure 11.1 a and b junction and doping**\n",
    "\n",
    "**Misconceptions**\n",
    "1. **Holes are electrons leaving an energy band**\n",
    "![image](https://lh3.googleusercontent.com/drive-viewer/AEYmBYRreGCYQ_tua0cJi71MNy69o_Z0WYiMOzNeSJzBH0W_ocbjPifpPSmv1fEtHYOlqGJPelWKJM5LvGIBTb6iUf14vvQW=w1910-h927)\n",
    "\n",
    "2. **Electrons barely move.**\n",
    "3. **Electrons move in the opposite direction of current (see equation).**\n",
    "    **Therefore, holes \"move\" in the same direction as the current.**\n",
    "4. **Temperature increases conductivity in semiconductors, not in metals.**\n",
    "\n",
    "\n",
    "\n"
   ]
  },
  {
   "cell_type": "markdown",
   "metadata": {
    "id": "SfTh_Fw11Jy0"
   },
   "source": [
    "#**Questions and exercises**\n",
    "\n",
    "\n",
    "\n",
    "\n"
   ]
  },
  {
   "cell_type": "markdown",
   "metadata": {
    "id": "FN8KvxBT2Bit"
   },
   "source": [
    "# **Worked Example**\n",
    "\n",
    "\n",
    "Example described in the book. Now use the formulas to graph a curve to see how the temperature affects the phenomena.\n"
   ]
  },
  {
   "cell_type": "code",
   "execution_count": null,
   "metadata": {
    "colab": {
     "base_uri": "https://localhost:8080/",
     "height": 452
    },
    "id": "GOzR4c9p1Dlg",
    "outputId": "b2ec2d8e-f39a-426f-b695-c738895c2fd9"
   },
   "outputs": [
    {
     "data": {
      "image/png": "[encoded data removed]",
      "text/plain": [
       "<Figure size 640x480 with 1 Axes>"
      ]
     },
     "metadata": {},
     "output_type": "display_data"
    }
   ],
   "source": [
    "# @title Coding Example with Graph\n",
    "\n",
    "import numpy as np\n",
    "from matplotlib import pyplot as plt\n",
    "\n",
    "ys = 0 + np.random.randn(100)\n",
    "x = [x for x in range(len(ys))]\n",
    "\n",
    "plt.plot(x, ys, '-')\n",
    "plt.fill_between(x, ys, 195, where=(ys > 195),alpha=0.3)\n",
    "\n",
    "plt.title(\"Sample Visualization\")\n",
    "plt.show()"
   ]
  },
  {
   "cell_type": "code",
   "execution_count": null,
   "metadata": {
    "cellView": "form",
    "id": "iYGNEfMz2S8T"
   },
   "outputs": [],
   "source": [
    "# @title Coding example to include text and options\n",
    "\n",
    "text = '' # @param {type:\"string\"}\n",
    "dropdown = '1st option' # @param [\"1st option\", \"2nd option\", \"3rd option\"]\n",
    "text_and_dropdown = '3rd option' # @param [\"1st option\", \"2nd option\", \"3rd option\"] {allow-input: true}\n",
    "\n",
    "print(text)\n",
    "print(dropdown)\n",
    "print(text_and_dropdown)"
   ]
  },
  {
   "cell_type": "markdown",
   "metadata": {
    "id": "zKlHmv0x0uhL"
   },
   "source": [
    "# **Simulation**\n",
    "\n",
    "It should be possible to call the simulation from nanohub and insert that here, however we need to bypass the credentials. As nanohub is free and open source, it should be possible to insert the simulation as html.\n",
    "\n",
    "\n",
    "**These are alternatives for including the simulation**\n",
    "## Possible simulations\n",
    "1. Link\n",
    "[Simulation Option Kronig Penney](https://nanohub.org/js_apps/kronig_penney.html)\n",
    "2. Embeded code (It is open source)\n",
    "We need client id  and client secret from nanohub source. (Or if it is possible to clone te simulation and create our own credentials)\n",
    "\n",
    "```python\n",
    "import nanohubremote as nr\n",
    "auth_data = {\n",
    "  'client_id': XXXXXXXX,\n",
    "  'client_secret': XXXXXXXX,\n",
    "  'grant_type': 'password',\n",
    "  'username': XXXXXXXX,\n",
    "  'password': XXXXXXXX\n",
    "}\n",
    "\n",
    "```\n",
    "```{note}\n",
    "here is a note ---\n",
    "```\n",
    "\n",
    "3. Go directly to simulator from notebook\n",
    "\n",
    "a. From Jupyter notebook\n",
    "https://nanohub.org/tools/jupyter70\n",
    "https://proxy.nanohub.org/weber/2357856/ilSjoDjwshlwoJRM/22/notebooks/ECESemiconductors/pnjunctionapp.ipynb"
   ]
  },
  {
   "cell_type": "markdown",
   "metadata": {
    "id": "uKkQhpHu_UCM"
   },
   "source": [
    "# **Author**"
   ]
  }
 ],
 "metadata": {
  "colab": {
   "provenance": []
  },
  "kernelspec": {
   "display_name": "Python 3",
   "name": "python3"
  },
  "language_info": {
   "codemirror_mode": {
    "name": "ipython",
    "version": 3
   },
   "file_extension": ".py",
   "mimetype": "text/x-python",
   "name": "python",
   "nbconvert_exporter": "python",
   "pygments_lexer": "ipython3",
   "version": "3.12.2"
  }
 },
 "nbformat": 4,
 "nbformat_minor": 0
}